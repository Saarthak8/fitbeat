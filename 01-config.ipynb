{
 "cells": [
  {
   "cell_type": "code",
   "execution_count": 1,
   "id": "c71c815d",
   "metadata": {},
   "outputs": [],
   "source": [
    "# Dataproc notebook source\n",
    "class Config():    \n",
    "    def __init__(self):      \n",
    "        self.base_dir_data = \"gcs://fitbeat-unmanaged-dev/data_zone\"\n",
    "        self.base_dir_checkpoint = \"gcs://fitbeat-unmanaged-dev/checkpoint_zone\"\n",
    "        self.db_name = \"fitbeat_db\"\n",
    "        self.maxFilesPerTrigger = 1000"
   ]
  },
  {
   "cell_type": "code",
   "execution_count": null,
   "id": "7bee20e8",
   "metadata": {},
   "outputs": [],
   "source": []
  }
 ],
 "metadata": {
  "kernelspec": {
   "display_name": "Python 3 (ipykernel)",
   "language": "python",
   "name": "python3"
  },
  "language_info": {
   "codemirror_mode": {
    "name": "ipython",
    "version": 3
   },
   "file_extension": ".py",
   "mimetype": "text/x-python",
   "name": "python",
   "nbconvert_exporter": "python",
   "pygments_lexer": "ipython3",
   "version": "3.11.5"
  }
 },
 "nbformat": 4,
 "nbformat_minor": 5
}
